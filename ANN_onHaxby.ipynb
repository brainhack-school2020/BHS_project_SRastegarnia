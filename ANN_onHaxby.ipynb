{
 "cells": [
  {
   "cell_type": "markdown",
   "metadata": {},
   "source": [
    "# What is an artificial neural network (ANN)?\n",
    "ANN is the foundation of AI and one of the main tools used in ML inspired by the human brain when networks of neurons \n",
    "analyze and process information. ANNs have self-learning capabilities and can learn from their experience that enables them \n",
    "to produce better results as more data becomes available.\n",
    "In this computational model, neural networks consist of input and output layers also there is a hidden layer (in most cases)\n",
    "that transforms the input to the usable data for the output layer. ANN initially goes through a training phase. During this \n",
    "supervised phase, the network is taught what to look for and what is the desired output. The difference between the results \n",
    "is adjusted using backpropagation (going from output to input) in order to achieve the lowest possible difference between \n",
    "the actual and desired outcome.\n",
    "\n",
    "In this notebook, I trained ANN model on the HAXBY dataset."
   ]
  },
  {
   "cell_type": "code",
   "execution_count": 2,
   "metadata": {},
   "outputs": [],
   "source": [
    "import numpy as np\n",
    "import matplotlib.pyplot as plt\n",
    "import pandas as pd\n",
    "import keras\n",
    "from sklearn import preprocessing\n",
    "from sklearn.preprocessing import LabelEncoder, OneHotEncoder\n",
    "from nilearn.input_data import NiftiMasker\n",
    "from nilearn import datasets, plotting, image\n",
    "from sklearn.model_selection import train_test_split\n",
    "from sklearn.preprocessing import StandardScaler, LabelEncoder, OneHotEncoder\n",
    "from keras.models import Sequential\n",
    "from keras.layers import Dense\n",
    "from sklearn.metrics import confusion_matrix\n",
    "from nilearn.plotting import plot_anat, show, plot_stat_map, plot_matrix"
   ]
  },
  {
   "cell_type": "code",
   "execution_count": 3,
   "metadata": {},
   "outputs": [],
   "source": [
    "# Designate input file\n",
    "haxby_ds = datasets.fetch_haxby(subjects=[4], fetch_stimuli=True)\n",
    "\n",
    "# 'func' is a list of filenames: one for each subject\n",
    "func_file = haxby_ds.func[0]\n",
    "\n",
    "# Standardizing\n",
    "mask_vt_file = haxby_ds.mask_vt[0]\n",
    "masker = NiftiMasker(mask_img=mask_vt_file, standardize=True)\n",
    "\n",
    "# Load the behavioral data that I will predict\n",
    "beh_label = pd.read_csv(haxby_ds.session_target[0], sep=\" \")\n",
    "\n",
    "# Regressout the resting state\n",
    "nonrest_task_mask = (beh_label['labels'] != 'rest')"
   ]
  },
  {
   "cell_type": "code",
   "execution_count": 4,
   "metadata": {},
   "outputs": [],
   "source": [
    "# Selecting data\n",
    "\n",
    "# X contains the features\n",
    "X = masker.fit_transform(func_file)[nonrest_task_mask]\n",
    "\n",
    "# y contains the target variable\n",
    "y = beh_label['labels'][nonrest_task_mask]"
   ]
  },
  {
   "cell_type": "code",
   "execution_count": 5,
   "metadata": {},
   "outputs": [],
   "source": [
    "# Remove the resting state and find names of remaining active labels\n",
    "categories = y[nonrest_task_mask].unique()\n",
    "\n",
    "# Get the labels of the numerical conditions represented by the vector y\n",
    "unique_conditions, order = np.unique(categories, return_index=True)\n",
    "\n",
    "# Sort the conditions by the order of appearance\n",
    "unique_conditions = unique_conditions[np.argsort(order)]\n",
    "\n",
    "# Extract tags indicating to which acquisition run a tag belongs\n",
    "session_labels = beh_label['chunks'][nonrest_task_mask]"
   ]
  },
  {
   "cell_type": "code",
   "execution_count": 6,
   "metadata": {},
   "outputs": [],
   "source": [
    "# Encoding the string to numerical values. (ML Algorithm can only work on numbers and not on string)\n",
    "labelencoder_y = LabelEncoder()\n",
    "y = labelencoder_y.fit_transform(y)"
   ]
  },
  {
   "cell_type": "code",
   "execution_count": 7,
   "metadata": {},
   "outputs": [
    {
     "data": {
      "text/plain": [
       "(864,)"
      ]
     },
     "execution_count": 7,
     "metadata": {},
     "output_type": "execute_result"
    }
   ],
   "source": [
    "y.shape"
   ]
  },
  {
   "cell_type": "code",
   "execution_count": 8,
   "metadata": {},
   "outputs": [
    {
     "data": {
      "text/plain": [
       "numpy.ndarray"
      ]
     },
     "execution_count": 8,
     "metadata": {},
     "output_type": "execute_result"
    }
   ],
   "source": [
    "type(y)"
   ]
  },
  {
   "cell_type": "code",
   "execution_count": 9,
   "metadata": {},
   "outputs": [
    {
     "name": "stdout",
     "output_type": "stream",
     "text": [
      "[3 3 3 3 3 3 3 3 3 2 2 2 2 2 2 2 2 2 5 5 5 5 5 5 5 5 5 7 7 7 7 7 7 7 7 7 6\n",
      " 6 6 6 6 6 6 6 6 4 4 4 4 4 4 4 4 4 1 1 1 1 1 1 1 1 1 0 0 0 0 0 0 0 0 0 1 1\n",
      " 1 1 1 1 1 1 1 6 6 6 6 6 6 6 6 6 5 5 5 5 5 5 5 5 5 2 2 2 2 2 2 2 2 2 0 0 0\n",
      " 0 0 0 0 0 0 7 7 7 7 7 7 7 7 7 3 3 3 3 3 3 3 3 3 4 4 4 4 4 4 4 4 4 3 3 3 3\n",
      " 3 3 3 3 3 6 6 6 6 6 6 6 6 6 5 5 5 5 5 5 5 5 5 7 7 7 7 7 7 7 7 7 0 0 0 0 0\n",
      " 0 0 0 0 1 1 1 1 1 1 1 1 1 2 2 2 2 2 2 2 2 2 4 4 4 4 4 4 4 4 4 3 3 3 3 3 3\n",
      " 3 3 3 1 1 1 1 1 1 1 1 1 6 6 6 6 6 6 6 6 6 4 4 4 4 4 4 4 4 4 5 5 5 5 5 5 5\n",
      " 5 5 2 2 2 2 2 2 2 2 2 7 7 7 7 7 7 7 7 7 0 0 0 0 0 0 0 0 0 1 1 1 1 1 1 1 1\n",
      " 1 6 6 6 6 6 6 6 6 6 2 2 2 2 2 2 2 2 2 0 0 0 0 0 0 0 0 0 7 7 7 7 7 7 7 7 7\n",
      " 4 4 4 4 4 4 4 4 4 3 3 3 3 3 3 3 3 3 5 5 5 5 5 5 5 5 5 3 3 3 3 3 3 3 3 3 1\n",
      " 1 1 1 1 1 1 1 1 7 7 7 7 7 7 7 7 7 2 2 2 2 2 2 2 2 2 5 5 5 5 5 5 5 5 5 0 0\n",
      " 0 0 0 0 0 0 0 4 4 4 4 4 4 4 4 4 6 6 6 6 6 6 6 6 6 4 4 4 4 4 4 4 4 4 6 6 6\n",
      " 6 6 6 6 6 6 3 3 3 3 3 3 3 3 3 7 7 7 7 7 7 7 7 7 2 2 2 2 2 2 2 2 2 1 1 1 1\n",
      " 1 1 1 1 1 0 0 0 0 0 0 0 0 0 5 5 5 5 5 5 5 5 5 7 7 7 7 7 7 7 7 7 4 4 4 4 4\n",
      " 4 4 4 4 2 2 2 2 2 2 2 2 2 1 1 1 1 1 1 1 1 1 3 3 3 3 3 3 3 3 3 6 6 6 6 6 6\n",
      " 6 6 6 0 0 0 0 0 0 0 0 0 5 5 5 5 5 5 5 5 5 5 5 5 5 5 5 5 5 5 3 3 3 3 3 3 3\n",
      " 3 3 1 1 1 1 1 1 1 1 1 7 7 7 7 7 7 7 7 7 4 4 4 4 4 4 4 4 4 6 6 6 6 6 6 6 6\n",
      " 6 0 0 0 0 0 0 0 0 0 2 2 2 2 2 2 2 2 2 4 4 4 4 4 4 4 4 4 5 5 5 5 5 5 5 5 5\n",
      " 0 0 0 0 0 0 0 0 0 3 3 3 3 3 3 3 3 3 2 2 2 2 2 2 2 2 2 7 7 7 7 7 7 7 7 7 1\n",
      " 1 1 1 1 1 1 1 1 6 6 6 6 6 6 6 6 6 0 0 0 0 0 0 0 0 0 4 4 4 4 4 4 4 4 4 2 2\n",
      " 2 2 2 2 2 2 2 6 6 6 6 6 6 6 6 6 3 3 3 3 3 3 3 3 3 7 7 7 7 7 7 7 7 7 1 1 1\n",
      " 1 1 1 1 1 1 5 5 5 5 5 5 5 5 5 3 3 3 3 3 3 3 3 3 2 2 2 2 2 2 2 2 2 1 1 1 1\n",
      " 1 1 1 1 1 4 4 4 4 4 4 4 4 4 6 6 6 6 6 6 6 6 6 7 7 7 7 7 7 7 7 7 0 0 0 0 0\n",
      " 0 0 0 0 5 5 5 5 5 5 5 5 5]\n"
     ]
    }
   ],
   "source": [
    "print(y)"
   ]
  },
  {
   "cell_type": "code",
   "execution_count": 10,
   "metadata": {},
   "outputs": [],
   "source": [
    "test = np.reshape(y, (864,1))\n",
    "y = test"
   ]
  },
  {
   "cell_type": "code",
   "execution_count": 11,
   "metadata": {},
   "outputs": [
    {
     "data": {
      "text/plain": [
       "(864, 1)"
      ]
     },
     "execution_count": 11,
     "metadata": {},
     "output_type": "execute_result"
    }
   ],
   "source": [
    "y.shape"
   ]
  },
  {
   "cell_type": "code",
   "execution_count": 12,
   "metadata": {},
   "outputs": [
    {
     "data": {
      "text/plain": [
       "numpy.ndarray"
      ]
     },
     "execution_count": 12,
     "metadata": {},
     "output_type": "execute_result"
    }
   ],
   "source": [
    "type(y)"
   ]
  },
  {
   "cell_type": "code",
   "execution_count": 13,
   "metadata": {},
   "outputs": [
    {
     "data": {
      "text/html": [
       "<div>\n",
       "<style scoped>\n",
       "    .dataframe tbody tr th:only-of-type {\n",
       "        vertical-align: middle;\n",
       "    }\n",
       "\n",
       "    .dataframe tbody tr th {\n",
       "        vertical-align: top;\n",
       "    }\n",
       "\n",
       "    .dataframe thead th {\n",
       "        text-align: right;\n",
       "    }\n",
       "</style>\n",
       "<table border=\"1\" class=\"dataframe\">\n",
       "  <thead>\n",
       "    <tr style=\"text-align: right;\">\n",
       "      <th></th>\n",
       "      <th>0</th>\n",
       "      <th>1</th>\n",
       "      <th>2</th>\n",
       "      <th>3</th>\n",
       "      <th>4</th>\n",
       "      <th>5</th>\n",
       "      <th>6</th>\n",
       "      <th>7</th>\n",
       "    </tr>\n",
       "  </thead>\n",
       "  <tbody>\n",
       "    <tr>\n",
       "      <th>0</th>\n",
       "      <td>0.0</td>\n",
       "      <td>0.0</td>\n",
       "      <td>0.0</td>\n",
       "      <td>1.0</td>\n",
       "      <td>0.0</td>\n",
       "      <td>0.0</td>\n",
       "      <td>0.0</td>\n",
       "      <td>0.0</td>\n",
       "    </tr>\n",
       "    <tr>\n",
       "      <th>1</th>\n",
       "      <td>0.0</td>\n",
       "      <td>0.0</td>\n",
       "      <td>0.0</td>\n",
       "      <td>1.0</td>\n",
       "      <td>0.0</td>\n",
       "      <td>0.0</td>\n",
       "      <td>0.0</td>\n",
       "      <td>0.0</td>\n",
       "    </tr>\n",
       "    <tr>\n",
       "      <th>2</th>\n",
       "      <td>0.0</td>\n",
       "      <td>0.0</td>\n",
       "      <td>0.0</td>\n",
       "      <td>1.0</td>\n",
       "      <td>0.0</td>\n",
       "      <td>0.0</td>\n",
       "      <td>0.0</td>\n",
       "      <td>0.0</td>\n",
       "    </tr>\n",
       "    <tr>\n",
       "      <th>3</th>\n",
       "      <td>0.0</td>\n",
       "      <td>0.0</td>\n",
       "      <td>0.0</td>\n",
       "      <td>1.0</td>\n",
       "      <td>0.0</td>\n",
       "      <td>0.0</td>\n",
       "      <td>0.0</td>\n",
       "      <td>0.0</td>\n",
       "    </tr>\n",
       "    <tr>\n",
       "      <th>4</th>\n",
       "      <td>0.0</td>\n",
       "      <td>0.0</td>\n",
       "      <td>0.0</td>\n",
       "      <td>1.0</td>\n",
       "      <td>0.0</td>\n",
       "      <td>0.0</td>\n",
       "      <td>0.0</td>\n",
       "      <td>0.0</td>\n",
       "    </tr>\n",
       "    <tr>\n",
       "      <th>...</th>\n",
       "      <td>...</td>\n",
       "      <td>...</td>\n",
       "      <td>...</td>\n",
       "      <td>...</td>\n",
       "      <td>...</td>\n",
       "      <td>...</td>\n",
       "      <td>...</td>\n",
       "      <td>...</td>\n",
       "    </tr>\n",
       "    <tr>\n",
       "      <th>859</th>\n",
       "      <td>0.0</td>\n",
       "      <td>0.0</td>\n",
       "      <td>0.0</td>\n",
       "      <td>0.0</td>\n",
       "      <td>0.0</td>\n",
       "      <td>1.0</td>\n",
       "      <td>0.0</td>\n",
       "      <td>0.0</td>\n",
       "    </tr>\n",
       "    <tr>\n",
       "      <th>860</th>\n",
       "      <td>0.0</td>\n",
       "      <td>0.0</td>\n",
       "      <td>0.0</td>\n",
       "      <td>0.0</td>\n",
       "      <td>0.0</td>\n",
       "      <td>1.0</td>\n",
       "      <td>0.0</td>\n",
       "      <td>0.0</td>\n",
       "    </tr>\n",
       "    <tr>\n",
       "      <th>861</th>\n",
       "      <td>0.0</td>\n",
       "      <td>0.0</td>\n",
       "      <td>0.0</td>\n",
       "      <td>0.0</td>\n",
       "      <td>0.0</td>\n",
       "      <td>1.0</td>\n",
       "      <td>0.0</td>\n",
       "      <td>0.0</td>\n",
       "    </tr>\n",
       "    <tr>\n",
       "      <th>862</th>\n",
       "      <td>0.0</td>\n",
       "      <td>0.0</td>\n",
       "      <td>0.0</td>\n",
       "      <td>0.0</td>\n",
       "      <td>0.0</td>\n",
       "      <td>1.0</td>\n",
       "      <td>0.0</td>\n",
       "      <td>0.0</td>\n",
       "    </tr>\n",
       "    <tr>\n",
       "      <th>863</th>\n",
       "      <td>0.0</td>\n",
       "      <td>0.0</td>\n",
       "      <td>0.0</td>\n",
       "      <td>0.0</td>\n",
       "      <td>0.0</td>\n",
       "      <td>1.0</td>\n",
       "      <td>0.0</td>\n",
       "      <td>0.0</td>\n",
       "    </tr>\n",
       "  </tbody>\n",
       "</table>\n",
       "<p>864 rows × 8 columns</p>\n",
       "</div>"
      ],
      "text/plain": [
       "       0    1    2    3    4    5    6    7\n",
       "0    0.0  0.0  0.0  1.0  0.0  0.0  0.0  0.0\n",
       "1    0.0  0.0  0.0  1.0  0.0  0.0  0.0  0.0\n",
       "2    0.0  0.0  0.0  1.0  0.0  0.0  0.0  0.0\n",
       "3    0.0  0.0  0.0  1.0  0.0  0.0  0.0  0.0\n",
       "4    0.0  0.0  0.0  1.0  0.0  0.0  0.0  0.0\n",
       "..   ...  ...  ...  ...  ...  ...  ...  ...\n",
       "859  0.0  0.0  0.0  0.0  0.0  1.0  0.0  0.0\n",
       "860  0.0  0.0  0.0  0.0  0.0  1.0  0.0  0.0\n",
       "861  0.0  0.0  0.0  0.0  0.0  1.0  0.0  0.0\n",
       "862  0.0  0.0  0.0  0.0  0.0  1.0  0.0  0.0\n",
       "863  0.0  0.0  0.0  0.0  0.0  1.0  0.0  0.0\n",
       "\n",
       "[864 rows x 8 columns]"
      ]
     },
     "execution_count": 13,
     "metadata": {},
     "output_type": "execute_result"
    }
   ],
   "source": [
    "# creating instance of one-hot-encoder\n",
    "enc = OneHotEncoder(handle_unknown='ignore')\n",
    "# passing bridge-types-cat column (label encoded values of bridge_types)\n",
    "y = pd.DataFrame(enc.fit_transform(y).toarray())\n",
    "y"
   ]
  },
  {
   "cell_type": "code",
   "execution_count": 14,
   "metadata": {},
   "outputs": [],
   "source": [
    "# shuffle and split the data into training set and test set\n",
    "X_train, X_test, y_train, y_test = train_test_split(X, y, test_size=0.1, shuffle=True, random_state = 0)\n",
    "\n",
    "#standarize features caling\n",
    "scaler = StandardScaler()\n",
    "X_train = scaler.fit_transform(X_train)\n",
    "X_test = scaler.transform(X_test)"
   ]
  },
  {
   "cell_type": "code",
   "execution_count": 15,
   "metadata": {},
   "outputs": [
    {
     "data": {
      "text/plain": [
       "(777, 675)"
      ]
     },
     "execution_count": 15,
     "metadata": {},
     "output_type": "execute_result"
    }
   ],
   "source": [
    "X_train.shape"
   ]
  },
  {
   "cell_type": "code",
   "execution_count": 16,
   "metadata": {},
   "outputs": [
    {
     "data": {
      "text/plain": [
       "numpy.ndarray"
      ]
     },
     "execution_count": 16,
     "metadata": {},
     "output_type": "execute_result"
    }
   ],
   "source": [
    "type(X_train)"
   ]
  },
  {
   "cell_type": "markdown",
   "metadata": {},
   "source": [
    "## Initializing the ANN"
   ]
  },
  {
   "cell_type": "code",
   "execution_count": 17,
   "metadata": {},
   "outputs": [],
   "source": [
    "classifier = Sequential()"
   ]
  },
  {
   "cell_type": "code",
   "execution_count": 18,
   "metadata": {},
   "outputs": [
    {
     "name": "stderr",
     "output_type": "stream",
     "text": [
      "/home/srastegarnia/miniconda3/lib/python3.7/site-packages/ipykernel_launcher.py:2: UserWarning: Update your `Dense` call to the Keras 2 API: `Dense(338, input_dim=675, activation=\"relu\", kernel_initializer=\"uniform\")`\n",
      "  \n"
     ]
    }
   ],
   "source": [
    "# Adding the input layer and the first hidden layer\n",
    "classifier.add(Dense(338 , input_dim = 675, init = 'uniform', activation = 'relu'))"
   ]
  },
  {
   "cell_type": "code",
   "execution_count": 19,
   "metadata": {},
   "outputs": [
    {
     "name": "stderr",
     "output_type": "stream",
     "text": [
      "/home/srastegarnia/miniconda3/lib/python3.7/site-packages/ipykernel_launcher.py:2: UserWarning: Update your `Dense` call to the Keras 2 API: `Dense(169, activation=\"relu\", kernel_initializer=\"uniform\")`\n",
      "  \n"
     ]
    }
   ],
   "source": [
    "# Adding the second hidden layer\n",
    "classifier.add(Dense(169, init = 'uniform', activation = 'relu'))"
   ]
  },
  {
   "cell_type": "code",
   "execution_count": 20,
   "metadata": {},
   "outputs": [],
   "source": [
    "classifier.add(Dense(8, activation = 'softmax'))"
   ]
  },
  {
   "cell_type": "code",
   "execution_count": 21,
   "metadata": {},
   "outputs": [
    {
     "name": "stdout",
     "output_type": "stream",
     "text": [
      "Model: \"sequential_1\"\n",
      "_________________________________________________________________\n",
      "Layer (type)                 Output Shape              Param #   \n",
      "=================================================================\n",
      "dense_1 (Dense)              (None, 338)               228488    \n",
      "_________________________________________________________________\n",
      "dense_2 (Dense)              (None, 169)               57291     \n",
      "_________________________________________________________________\n",
      "dense_3 (Dense)              (None, 8)                 1360      \n",
      "=================================================================\n",
      "Total params: 287,139\n",
      "Trainable params: 287,139\n",
      "Non-trainable params: 0\n",
      "_________________________________________________________________\n"
     ]
    }
   ],
   "source": [
    "classifier.summary()"
   ]
  },
  {
   "cell_type": "code",
   "execution_count": 22,
   "metadata": {},
   "outputs": [],
   "source": [
    "# Compiling the ANN\n",
    "classifier.compile(optimizer = 'adam', loss = 'categorical_crossentropy', metrics = ['accuracy'])"
   ]
  },
  {
   "cell_type": "code",
   "execution_count": 23,
   "metadata": {},
   "outputs": [
    {
     "name": "stderr",
     "output_type": "stream",
     "text": [
      "/home/srastegarnia/miniconda3/lib/python3.7/site-packages/ipykernel_launcher.py:2: UserWarning: The `nb_epoch` argument in `fit` has been renamed `epochs`.\n",
      "  \n"
     ]
    },
    {
     "name": "stdout",
     "output_type": "stream",
     "text": [
      "Epoch 1/20\n",
      "777/777 [==============================] - 1s 1ms/step - loss: 1.6764 - accuracy: 0.3887\n",
      "Epoch 2/20\n",
      "777/777 [==============================] - 0s 520us/step - loss: 0.8753 - accuracy: 0.6937\n",
      "Epoch 3/20\n",
      "777/777 [==============================] - 0s 488us/step - loss: 0.4128 - accuracy: 0.8752\n",
      "Epoch 4/20\n",
      "777/777 [==============================] - 0s 490us/step - loss: 0.2437 - accuracy: 0.9266\n",
      "Epoch 5/20\n",
      "777/777 [==============================] - 0s 472us/step - loss: 0.1356 - accuracy: 0.9601\n",
      "Epoch 6/20\n",
      "777/777 [==============================] - 0s 460us/step - loss: 0.1421 - accuracy: 0.9601\n",
      "Epoch 7/20\n",
      "777/777 [==============================] - 0s 622us/step - loss: 0.0746 - accuracy: 0.9794\n",
      "Epoch 8/20\n",
      "777/777 [==============================] - 0s 461us/step - loss: 0.0245 - accuracy: 0.9974\n",
      "Epoch 9/20\n",
      "777/777 [==============================] - 0s 473us/step - loss: 0.0081 - accuracy: 0.9987\n",
      "Epoch 10/20\n",
      "777/777 [==============================] - 0s 489us/step - loss: 0.0022 - accuracy: 1.0000\n",
      "Epoch 11/20\n",
      "777/777 [==============================] - 0s 484us/step - loss: 0.0016 - accuracy: 1.0000\n",
      "Epoch 12/20\n",
      "777/777 [==============================] - 0s 447us/step - loss: 0.0013 - accuracy: 1.0000\n",
      "Epoch 13/20\n",
      "777/777 [==============================] - 1s 664us/step - loss: 0.0011 - accuracy: 1.0000\n",
      "Epoch 14/20\n",
      "777/777 [==============================] - 0s 621us/step - loss: 9.9432e-04 - accuracy: 1.0000\n",
      "Epoch 15/20\n",
      "777/777 [==============================] - 0s 498us/step - loss: 8.7551e-04 - accuracy: 1.0000\n",
      "Epoch 16/20\n",
      "777/777 [==============================] - 0s 522us/step - loss: 7.8004e-04 - accuracy: 1.0000\n",
      "Epoch 17/20\n",
      "777/777 [==============================] - 0s 615us/step - loss: 6.9729e-04 - accuracy: 1.0000\n",
      "Epoch 18/20\n",
      "777/777 [==============================] - 0s 467us/step - loss: 6.2764e-04 - accuracy: 1.0000\n",
      "Epoch 19/20\n",
      "777/777 [==============================] - 0s 593us/step - loss: 5.6955e-04 - accuracy: 1.0000\n",
      "Epoch 20/20\n",
      "777/777 [==============================] - 0s 495us/step - loss: 5.1954e-04 - accuracy: 1.0000\n"
     ]
    },
    {
     "data": {
      "text/plain": [
       "<keras.callbacks.callbacks.History at 0x7ff8ec12f250>"
      ]
     },
     "execution_count": 23,
     "metadata": {},
     "output_type": "execute_result"
    }
   ],
   "source": [
    "# Fitting the ANN to the Training set\n",
    "classifier.fit(X_train, y_train, batch_size = 10, nb_epoch = 20)"
   ]
  },
  {
   "cell_type": "code",
   "execution_count": 24,
   "metadata": {},
   "outputs": [],
   "source": [
    "# Making the predictions and evaluating the model\n",
    "y_pred = classifier.predict(X_test)\n",
    "y_pred = (y_pred > 0.5)"
   ]
  },
  {
   "cell_type": "code",
   "execution_count": 25,
   "metadata": {},
   "outputs": [
    {
     "name": "stdout",
     "output_type": "stream",
     "text": [
      "[[ 8  0  0  0  0  0  0  0]\n",
      " [ 0 13  0  0  0  0  0  0]\n",
      " [ 1  0 12  0  2  0  0  0]\n",
      " [ 1  0  0 14  0  0  0  0]\n",
      " [ 0  0  0  0 11  0  0  0]\n",
      " [ 0  0  1  0  0  9  0  0]\n",
      " [ 0  0  0  0  0  0  6  0]\n",
      " [ 1  0  1  0  0  0  0  7]]\n"
     ]
    }
   ],
   "source": [
    "cm = confusion_matrix(y_test.values.argmax(axis=1), y_pred.argmax(axis=1))\n",
    "print(cm)"
   ]
  },
  {
   "cell_type": "code",
   "execution_count": 26,
   "metadata": {},
   "outputs": [
    {
     "data": {
      "text/plain": [
       "(array([0, 1, 2, 3, 4, 5, 6, 7]), <a list of 8 Text yticklabel objects>)"
      ]
     },
     "execution_count": 26,
     "metadata": {},
     "output_type": "execute_result"
    },
    {
     "data": {
      "image/png": "[encoded data removed]",
      "text/plain": [
       "<Figure size 504x360 with 2 Axes>"
      ]
     },
     "metadata": {
      "needs_background": "light"
     },
     "output_type": "display_data"
    }
   ],
   "source": [
    "# Plotting the confusion matrix\n",
    "plot_matrix(cm, cmap='hot_r', labels=unique_conditions)\n",
    "plt.title('Artificial neural networks confusion matrix')\n",
    "plt.xticks(rotation=45)\n",
    "plt.yticks(rotation=0)"
   ]
  }
 ],
 "metadata": {
  "kernelspec": {
   "display_name": "Python 3",
   "language": "python",
   "name": "python3"
  },
  "language_info": {
   "codemirror_mode": {
    "name": "ipython",
    "version": 3
   },
   "file_extension": ".py",
   "mimetype": "text/x-python",
   "name": "python",
   "nbconvert_exporter": "python",
   "pygments_lexer": "ipython3",
   "version": "3.7.6"
  }
 },
 "nbformat": 4,
 "nbformat_minor": 4
}
